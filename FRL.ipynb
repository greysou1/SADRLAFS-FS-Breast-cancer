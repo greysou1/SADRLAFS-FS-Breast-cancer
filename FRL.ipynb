{
 "cells": [
  {
   "cell_type": "code",
   "execution_count": 1,
   "metadata": {},
   "outputs": [
    {
     "ename": "OSError",
     "evalue": "/home/prudvi/project/env/lib/python3.8/site-packages/torch/lib/../../nvidia/cublas/lib/libcublas.so.11: symbol cublasLtGetStatusString version libcublasLt.so.11 not defined in file libcublasLt.so.11 with link time reference",
     "output_type": "error",
     "traceback": [
      "\u001b[0;31m---------------------------------------------------------------------------\u001b[0m",
      "\u001b[0;31mOSError\u001b[0m                                   Traceback (most recent call last)",
      "Cell \u001b[0;32mIn [1], line 5\u001b[0m\n\u001b[1;32m      3\u001b[0m \u001b[39mimport\u001b[39;00m \u001b[39mpandas\u001b[39;00m \u001b[39mas\u001b[39;00m \u001b[39mpd\u001b[39;00m\n\u001b[1;32m      4\u001b[0m \u001b[39mfrom\u001b[39;00m \u001b[39msklearn\u001b[39;00m \u001b[39mimport\u001b[39;00m preprocessing\n\u001b[0;32m----> 5\u001b[0m \u001b[39mimport\u001b[39;00m \u001b[39mRepresentation_learning\u001b[39;00m\n\u001b[1;32m      6\u001b[0m \u001b[39mfrom\u001b[39;00m \u001b[39msklearn\u001b[39;00m\u001b[39m.\u001b[39;00m\u001b[39mneighbors\u001b[39;00m \u001b[39mimport\u001b[39;00m LocalOutlierFactor \u001b[39mas\u001b[39;00m LOF\n\u001b[1;32m      7\u001b[0m \u001b[39mfrom\u001b[39;00m \u001b[39msklearn\u001b[39;00m\u001b[39m.\u001b[39;00m\u001b[39mmodel_selection\u001b[39;00m \u001b[39mimport\u001b[39;00m StratifiedShuffleSplit\n",
      "File \u001b[0;32m~/project/Representation_learning.py:1\u001b[0m\n\u001b[0;32m----> 1\u001b[0m \u001b[39mimport\u001b[39;00m \u001b[39mtorch\u001b[39;00m\n\u001b[1;32m      2\u001b[0m \u001b[39mimport\u001b[39;00m \u001b[39mmath\u001b[39;00m\n\u001b[1;32m      3\u001b[0m \u001b[39mimport\u001b[39;00m \u001b[39mtorch\u001b[39;00m\u001b[39m.\u001b[39;00m\u001b[39mnn\u001b[39;00m \u001b[39mas\u001b[39;00m \u001b[39mnn\u001b[39;00m\n",
      "File \u001b[0;32m~/project/env/lib/python3.8/site-packages/torch/__init__.py:191\u001b[0m\n\u001b[1;32m    180\u001b[0m \u001b[39melse\u001b[39;00m:\n\u001b[1;32m    181\u001b[0m     \u001b[39m# Easy way.  You want this most of the time, because it will prevent\u001b[39;00m\n\u001b[1;32m    182\u001b[0m     \u001b[39m# C++ symbols from libtorch clobbering C++ symbols from other\u001b[39;00m\n\u001b[0;32m   (...)\u001b[0m\n\u001b[1;32m    188\u001b[0m     \u001b[39m#\u001b[39;00m\n\u001b[1;32m    189\u001b[0m     \u001b[39m# See Note [Global dependencies]\u001b[39;00m\n\u001b[1;32m    190\u001b[0m     \u001b[39mif\u001b[39;00m USE_GLOBAL_DEPS:\n\u001b[0;32m--> 191\u001b[0m         _load_global_deps()\n\u001b[1;32m    192\u001b[0m     \u001b[39mfrom\u001b[39;00m \u001b[39mtorch\u001b[39;00m\u001b[39m.\u001b[39;00m\u001b[39m_C\u001b[39;00m \u001b[39mimport\u001b[39;00m \u001b[39m*\u001b[39m  \u001b[39m# noqa: F403\u001b[39;00m\n\u001b[1;32m    194\u001b[0m \u001b[39m# Appease the type checker; ordinarily this binding is inserted by the\u001b[39;00m\n\u001b[1;32m    195\u001b[0m \u001b[39m# torch._C module initialization code in C\u001b[39;00m\n",
      "File \u001b[0;32m~/project/env/lib/python3.8/site-packages/torch/__init__.py:153\u001b[0m, in \u001b[0;36m_load_global_deps\u001b[0;34m()\u001b[0m\n\u001b[1;32m    150\u001b[0m here \u001b[39m=\u001b[39m os\u001b[39m.\u001b[39mpath\u001b[39m.\u001b[39mabspath(\u001b[39m__file__\u001b[39m)\n\u001b[1;32m    151\u001b[0m lib_path \u001b[39m=\u001b[39m os\u001b[39m.\u001b[39mpath\u001b[39m.\u001b[39mjoin(os\u001b[39m.\u001b[39mpath\u001b[39m.\u001b[39mdirname(here), \u001b[39m'\u001b[39m\u001b[39mlib\u001b[39m\u001b[39m'\u001b[39m, lib_name)\n\u001b[0;32m--> 153\u001b[0m ctypes\u001b[39m.\u001b[39;49mCDLL(lib_path, mode\u001b[39m=\u001b[39;49mctypes\u001b[39m.\u001b[39;49mRTLD_GLOBAL)\n",
      "File \u001b[0;32m/usr/local/anaconda3/lib/python3.8/ctypes/__init__.py:381\u001b[0m, in \u001b[0;36mCDLL.__init__\u001b[0;34m(self, name, mode, handle, use_errno, use_last_error, winmode)\u001b[0m\n\u001b[1;32m    378\u001b[0m \u001b[39mself\u001b[39m\u001b[39m.\u001b[39m_FuncPtr \u001b[39m=\u001b[39m _FuncPtr\n\u001b[1;32m    380\u001b[0m \u001b[39mif\u001b[39;00m handle \u001b[39mis\u001b[39;00m \u001b[39mNone\u001b[39;00m:\n\u001b[0;32m--> 381\u001b[0m     \u001b[39mself\u001b[39m\u001b[39m.\u001b[39m_handle \u001b[39m=\u001b[39m _dlopen(\u001b[39mself\u001b[39;49m\u001b[39m.\u001b[39;49m_name, mode)\n\u001b[1;32m    382\u001b[0m \u001b[39melse\u001b[39;00m:\n\u001b[1;32m    383\u001b[0m     \u001b[39mself\u001b[39m\u001b[39m.\u001b[39m_handle \u001b[39m=\u001b[39m handle\n",
      "\u001b[0;31mOSError\u001b[0m: /home/prudvi/project/env/lib/python3.8/site-packages/torch/lib/../../nvidia/cublas/lib/libcublas.so.11: symbol cublasLtGetStatusString version libcublasLt.so.11 not defined in file libcublasLt.so.11 with link time reference"
     ]
    }
   ],
   "source": [
    "import json\n",
    "import numpy as np\n",
    "import pandas as pd\n",
    "from sklearn import preprocessing\n",
    "import Representation_learning\n",
    "from sklearn.neighbors import LocalOutlierFactor as LOF\n",
    "from sklearn.model_selection import StratifiedShuffleSplit\n",
    "from sklearn import model_selection\n",
    "from sklearn.ensemble import RandomForestClassifier\n",
    "from scipy.io import loadmat\n",
    "from sklearn.preprocessing import OneHotEncoder\n",
    "from sklearn.metrics import accuracy_score, f1_score,precision_score,recall_score\n",
    "# from sklearn.naive_bayes import GaussianNB\n",
    "# from sklearn import svm\n",
    "from sklearn.tree import DecisionTreeClassifier\n",
    "# from xgboost.sklearn import XGBClassifier\n",
    "# import matplotlib.pyplot as plt\n",
    "\n",
    "import torch\n",
    "import torch.nn as nn\n",
    "import torch.nn.functional as F\n",
    "import numpy as np\n",
    "from models import Net, DQN"
   ]
  },
  {
   "cell_type": "code",
   "execution_count": 2,
   "metadata": {},
   "outputs": [
    {
     "name": "stdout",
     "output_type": "stream",
     "text": [
      "Loading data ...\n"
     ]
    },
    {
     "name": "stderr",
     "output_type": "stream",
     "text": [
      "/usr/local/anaconda3/lib/python3.8/site-packages/IPython/core/interactiveshell.py:3146: DtypeWarning: Columns (1,2,3,4,5,6,7,8,9,10,11,12,13,14,15,16,17,18,19,20,21,22,23,24,25,26,27,28,29,30,31,32,33,34,35,36,37,38,39,40,41,42,43,44,45,46,47,48,49,50,51,52,53,54,55,56,57,58,59,60,61,62,63,64,65,66,67,68,69,70,71,72,73,74,75,76,77,78,79,80,81,82,83,84,85,86,87,88,89,90,91,92,93,94,95,96,97,98,99,100,101,102,103,104,105,106,107,108,109,110,111,112,113,114,115,116,117,118,119,120,121,122,123,124,125,126,127,128,129,130,131,132,133,134,135,136,137,138,139,140,141,142,143,144,145,146,147,148,149,150,151,152,153,154,155,156,157,158,159,160,161,162,163,164,165,166,167,168,169,170,171,172,173,174,175,176,177,178,179,180,181,182,183,184,185,186,187,188,189,190,191,192,193,194,195,196,197,198,199,200,201,202,203,204,205,206,207,208,209,210,211,212,213,214,215,216,217,218,219,220,221,222,223,224,225,226,227,228,229,230,231,232,233,234,235,236,237,238,239,240,241,242,243,244,245,246,247,248,249,250,251,252,253,254,255,256,257,258,259,260,261,262,263,264,265,266,267,268,269,270,271,272,273,274,275,276,277,278,279,280,281,282,283,284,285,286,287,288,289,290,291,292,293,294,295,296,297,298,299,300,301,302,303,304,305,306,307,308,309,310,311,312,313,314,315,316,317,318,319,320,321,322,323,324,325,326,327,328,329,330,331,332,333,334,335,336,337,338,339,340,341,342,343,344,345,346,347,348,349,350,351,352,353,354,355,356,357,358,359,360,361,362,363,364,365,366,367,368,369,370,371,372,373,374,375,376,377,378,379,380,381,382,383,384,385,386,387,388,389,390,391,392,393,394,395,396,397,398,399,400,401,402,403,404,405,406,407,408,409,410,411,412,413,414,415,416,417,418,419,420,421,422,423,424,425,426,427,428,429,430,431,432,433,434,435,436,437,438,439,440,441,442,443,444,445,446,447,448,449,450,451,452,453,454,455,456,457,458,459,460,461,462,463,464,465,466,467,468,469,470,471,472,473,474,475,476,477,478,479,480,481,482,483,484,485,486,487,488,489,490,491,492,493,494,495,496,497,498,499,500,501,502,503,504,505,506,507,508,509,510,511,512,513,514,515,516,517,518,519,520,521,522,523,524,525,526,527,528,529,530,531,532,533,534,535,536,537,538,539,540,541,542,543,544,545,546,547,548,549,550,551,552,553,554,555,556,557,558,559,560,561,562,563,564,565,566,567,568,569,570,571,572,573,574,575,576,577,578,579,580,581,582,583,584,585,586,587,588,589,590,591,592,593,594,595,596,597,598,599,600,601,602,603,604,605,606,607,608,609,610,611,612,613,614,615,616,617,618,619,620,621,622,623,624,625,626,627,628,629,630,631,632,633,634,635,636,637,638,639,640,641,642,643,644,645,646,647,648,649,650,651,652,653,654,655,656,657,658,659,660,661,662,663,664,665,666,667,668,669,670,671,672,673,674,675,676,677,678,679,680,681,682,683,684,685,686,687,688,689,690,691,692,693,694,695,696,697,698,699,700,701,702,703,704,705,706,707,708,709,710,711,712,713,714,715,716,717,718,719,720,721,722,723,724,725,726,727,728,729,730,731,732,733,734,735,736,737,738,739,740,741,742,743,744,745,746,747,748,749,750,751,752,753,754,755,756,757,758,759,760,761,762,763,764,765,766,767,768,769,770,771,772,773,774,775,776,777,778,779,780,781,782,783,784,785,786,787,788,789,790,791,792,793,794,795,796,797,798,799,800,801,802,803,804,805,806,807,808,809,810,811,812,813,814,815,816,817,818,819,820,821,822,823,824,825,826,827,828,829,830,831,832,833,834,835,836,837,838,839,840,841,842,843,844,845,846,847,848,849,850,851,852,853,854,855,856,857,858,859,860,861,862,863,864,865,866,867,868,869,870,871,872,873,874,875,876,877,878,879,880,881,882,883,884,885,886,887,888,889,890,891,892,893,894,895,896,897,898,899,900,901,902,903,904,905,906,907,908,909,910,911,912,913,914,915,916,917,918,919,920,921,922,923,924,925,926,927,928,929,930,931,932,933,934,935,936,937,938,939,940,941,942,943,944,945,946,947,948,949,950,951,952,953,954,955,956,957,958,959,960,961,962,963,964,965,966,967,968,969,970,971,972,973,974,975,976,977,978,979,980,981,982,983,984,985,986,987,988,989,990,991,992,993,994,995,996,997,998,999,1000,1001,1002,1003,1004,1005,1006,1007,1008,1009,1010,1011,1012,1013,1014,1015,1016,1017,1018,1019,1020,1021,1022,1023,1024,1025,1026,1027,1028,1029,1030,1031,1032,1033,1034,1035,1036,1037,1038,1039,1040,1041,1042,1043,1044,1045,1046,1047,1048) have mixed types.Specify dtype option on import or set low_memory=False.\n",
      "  has_raised = await self.run_ast_nodes(code_ast.body, cell_name,\n"
     ]
    },
    {
     "name": "stdout",
     "output_type": "stream",
     "text": [
      "Loaded dataset.shape = (93651, 1049)\n",
      "Transpose dataset.shape = (1048, 93651)\n",
      "Data loaded.\n"
     ]
    }
   ],
   "source": [
    "print('Loading data ...')\n",
    "dataset = pd.read_csv('data/breast_cancer_transcript_expression_with_label.csv')\n",
    "print(f'Loaded {dataset.shape = }')\n",
    "dataset = dataset.set_index('Unnamed: 0').T\n",
    "print(f'Transpose {dataset.shape = }')\n",
    "print('Data loaded.')"
   ]
  },
  {
   "cell_type": "code",
   "execution_count": 3,
   "metadata": {},
   "outputs": [
    {
     "name": "stdout",
     "output_type": "stream",
     "text": [
      "dataset.shape = (1048, 93651)\n",
      "X.shape = (1048, 93650), Y.shape = (1048,)\n",
      "order.shape = (93650,)\n",
      "X.shape = (1048, 93650)\n"
     ]
    }
   ],
   "source": [
    "r, c = dataset.shape\n",
    "array = dataset.values\n",
    "print(f'{dataset.shape = }')\n",
    "# Y = dataset.iloc[:,0]\n",
    "# X = dataset.iloc[:,1:c]\n",
    "X = dataset.iloc[:,0:(c-1)]\n",
    "Y = dataset.iloc[:,(c-1)]\n",
    "print(f'{X.shape = }, {Y.shape = }')\n",
    "io = open(\"IGorderbreastcancer.txt\",\"r\")\n",
    "order = np.array(json.load(io), dtype=np.int32)\n",
    "\n",
    "print(f'{order.shape = }')\n",
    "X = X.iloc[:, order]\n",
    "print(f'{X.shape = }')"
   ]
  },
  {
   "cell_type": "code",
   "execution_count": 4,
   "metadata": {},
   "outputs": [
    {
     "name": "stdout",
     "output_type": "stream",
     "text": [
      "(943, 93650) (105, 93650) (943,) (105,)\n",
      "train_test_split done ...\n",
      "Random forest and DQN initialising ...\n",
      "==== N_STATES = 94610 ====\n",
      "==== N_STATES = 94610 ====\n",
      "done.\n",
      "Pre-processing data ...\n",
      "done.\n"
     ]
    }
   ],
   "source": [
    "X_train, X_val, Y_train, Y_val = model_selection.train_test_split(X, Y, test_size=0.1, random_state=0)\n",
    "print(X_train.shape, X_val.shape, Y_train.shape, Y_val.shape)\n",
    "print('train_test_split done ...')\n",
    "\n",
    "print('Random forest and DQN initialising ...')\n",
    "model = RandomForestClassifier(n_jobs=-1,n_estimators=100, random_state=0)\n",
    "#model =DecisionTreeClassifier(criterion='entropy', min_samples_leaf=3, random_state=0)\n",
    "\n",
    "N_feature = X_train.shape[1] # feature number\n",
    "N_sample = X_train.shape[0] # feature length,i.e., sample number\n",
    "\n",
    "BATCH_SIZE = 32\n",
    "LR = 0.01\n",
    "#EPSILON = 0.9\n",
    "GAMMA = 0.9\n",
    "TARGET_REPLACE_ITER = 100 # After how much time you refresh target network\n",
    "MEMORY_CAPACITY = 400 # The size of experience replay buffer\n",
    "EXPLORE_STEPS = 1000# How many exploration steps you'd like, should be larger than MEMORY_CAPACITY20\n",
    "N_ACTIONS = 2\n",
    "N_STATES = 480+N_feature\n",
    "\n",
    "np.random.seed(0)\n",
    "torch.manual_seed(0)    # reproducible\n",
    "\n",
    "dqn = DQN(N_STATES=N_STATES, N_ACTIONS=N_ACTIONS)\n",
    "\n",
    "Fstate = np.random.randint(2, size=N_feature)\n",
    "while sum(Fstate) < 2:\n",
    "    Fstate = np.random.randint(2, size=N_feature)\n",
    "\n",
    "print('done.')\n",
    "\n",
    "# Fstate = np.zeros(N_feature)\n",
    "# Fstate[0] = 1\n",
    "print('Pre-processing data ...')\n",
    "X_selected = X_train.iloc[:, Fstate == 1]\n",
    "X_array = np.array(X_selected)\n",
    "min_max_scaler = preprocessing.MinMaxScaler(feature_range=(-1, 1))\n",
    "X_array = min_max_scaler.fit_transform(X_array)\n",
    "print('done.')"
   ]
  },
  {
   "cell_type": "code",
   "execution_count": 5,
   "metadata": {},
   "outputs": [],
   "source": [
    "# print('Representation learning ...')\n",
    "# X_tensor = torch.FloatTensor(X_array).unsqueeze(0).unsqueeze(0)\n",
    "# s = Representation_learning.representation_training(X_tensor)\n",
    "# s = s.detach().numpy().reshape(-1)\n",
    "# position = np.arange(1, N_feature+1)\n",
    "# print(s.shape, position.shape)\n",
    "# import pandas as pd \n",
    "# pd.DataFrame(s).to_csv(\"breast_cancer_representation_learning.csv\")\n",
    "# print('done.')\n"
   ]
  },
  {
   "cell_type": "code",
   "execution_count": 6,
   "metadata": {},
   "outputs": [
    {
     "name": "stdout",
     "output_type": "stream",
     "text": [
      "(480, 2) (93650,)\n"
     ]
    }
   ],
   "source": [
    "# load representation learning \n",
    "df = pd.read_csv(\"breast_cancer_representation_learning.csv\")\n",
    "s = np.array(df.to_dict('split')['data'])\n",
    "position = np.arange(1, N_feature+1)\n",
    "print(s.shape, position.shape)"
   ]
  },
  {
   "cell_type": "code",
   "execution_count": 7,
   "metadata": {},
   "outputs": [
    {
     "name": "stdout",
     "output_type": "stream",
     "text": [
      "One hot encoding data ...\n",
      "(94610,)\n",
      "done.\n"
     ]
    }
   ],
   "source": [
    "print('One hot encoding data ...')\n",
    "onehot_encoded = OneHotEncoder(sparse=False).fit_transform(position.reshape(-1, 1))\n",
    "s = np.append(s, onehot_encoded[0])  \n",
    "print(s.shape)  \n",
    "print('done.')"
   ]
  },
  {
   "cell_type": "code",
   "execution_count": 1,
   "metadata": {},
   "outputs": [
    {
     "ename": "NameError",
     "evalue": "name 'N_feature' is not defined",
     "output_type": "error",
     "traceback": [
      "\u001b[0;31m---------------------------------------------------------------------------\u001b[0m",
      "\u001b[0;31mNameError\u001b[0m                                 Traceback (most recent call last)",
      "\u001b[0;32m<ipython-input-1-fd0b1c96351b>\u001b[0m in \u001b[0;36m<module>\u001b[0;34m\u001b[0m\n\u001b[1;32m      1\u001b[0m \u001b[0mresult\u001b[0m \u001b[0;34m=\u001b[0m \u001b[0;34m[\u001b[0m\u001b[0;34m]\u001b[0m\u001b[0;34m\u001b[0m\u001b[0;34m\u001b[0m\u001b[0m\n\u001b[0;32m----> 2\u001b[0;31m \u001b[0mT\u001b[0m \u001b[0;34m=\u001b[0m \u001b[0mN_feature\u001b[0m\u001b[0;34m\u001b[0m\u001b[0;34m\u001b[0m\u001b[0m\n\u001b[0m\u001b[1;32m      3\u001b[0m \u001b[0;31m# dqn.EPSILON_STEP_SIZE = (dqn.EPSILON_MAX - dqn.EPSILON)/((EXPLORE_STEPS-1)*T)\u001b[0m\u001b[0;34m\u001b[0m\u001b[0;34m\u001b[0m\u001b[0;34m\u001b[0m\u001b[0m\n\u001b[1;32m      4\u001b[0m \u001b[0;32mfor\u001b[0m \u001b[0mi\u001b[0m \u001b[0;32min\u001b[0m \u001b[0mrange\u001b[0m\u001b[0;34m(\u001b[0m\u001b[0mEXPLORE_STEPS\u001b[0m\u001b[0;34m)\u001b[0m\u001b[0;34m:\u001b[0m\u001b[0;34m\u001b[0m\u001b[0;34m\u001b[0m\u001b[0m\n\u001b[1;32m      5\u001b[0m     \u001b[0mt\u001b[0m \u001b[0;34m=\u001b[0m \u001b[0mi\u001b[0m \u001b[0;34m%\u001b[0m \u001b[0mT\u001b[0m\u001b[0;34m\u001b[0m\u001b[0;34m\u001b[0m\u001b[0m\n",
      "\u001b[0;31mNameError\u001b[0m: name 'N_feature' is not defined"
     ]
    }
   ],
   "source": [
    "result = []\n",
    "T = N_feature\n",
    "# dqn.EPSILON_STEP_SIZE = (dqn.EPSILON_MAX - dqn.EPSILON)/((EXPLORE_STEPS-1)*T)\n",
    "for i in range(EXPLORE_STEPS):\n",
    "    t = i % T\n",
    "    Faction = dqn.choose_action(s)\n",
    "    Fstate[t] = Faction\n",
    "    if sum(Fstate) < 1:\n",
    "        Faction = 1\n",
    "        Fstate[t] = Faction\n",
    "\n",
    "    X_selected = X_train.iloc[:, Fstate == 1]\n",
    "    X_array = np.array(X_selected)\n",
    "    min_max_scaler = preprocessing.MinMaxScaler(feature_range=(-1, 1))\n",
    "    X_array = min_max_scaler.fit_transform(X_array)\n",
    "    X_tensor = torch.FloatTensor(X_array).unsqueeze(0).unsqueeze(0)\n",
    "    s_ = Representation_learning.representation_training(X_tensor)\n",
    "    s_ = s_.detach().numpy().reshape(-1)\n",
    "    if t == T-1:\n",
    "        s_ = np.append(s_, onehot_encoded[0])\n",
    "        # s_ = np.append(s_, 1)\n",
    "    else:\n",
    "        s_ = np.append(s_, onehot_encoded[t + 1])\n",
    "        # s_ = np.append(s_, t + 2)\n",
    "\n",
    "    model.fit(X_train.iloc[:, Fstate == 1], Y_train)\n",
    "    accuracy = model.score(X_val.iloc[:, Fstate == 1], Y_val)\n",
    "    Y_pred = model.predict(X_val.iloc[:, Fstate == 1])\n",
    "    macroF1 = f1_score(Y_val, Y_pred, average='macro')\n",
    "    precision = precision_score(Y_val, Y_pred, average='macro')\n",
    "    recall = recall_score(Y_val, Y_pred, average='macro')\n",
    "\n",
    "    corr = X_val.corr().abs()\n",
    "    ave_corr = (corr.iloc[:, t].sum())/ (X_val.shape[1])\n",
    "\n",
    "    # ave_corr = X_val.corr().abs().sum().sum() / (X_val.shape[0] * X_val.shape[1])\n",
    "    r = (accuracy - ave_corr)\n",
    "    # r = accuracy\n",
    "\n",
    "    dqn.store_transition(s, Faction, r, s_)\n",
    "\n",
    "    if dqn.memory_counter > MEMORY_CAPACITY:\n",
    "        dqn.learn()\n",
    "    print('{}/{}: {}, {}'.format(i+1, EXPLORE_STEPS, r, accuracy), end='\\r')\n",
    "    s = s_\n",
    "    result.append([accuracy, precision, recall, macroF1, Fstate])\n",
    "\n",
    "print('done')    "
   ]
  },
  {
   "cell_type": "code",
   "execution_count": null,
   "metadata": {},
   "outputs": [],
   "source": [
    "output =[]\n",
    "name = []\n",
    "name.append(\"result types\")\n",
    "output.append(\"over_Gly\")\n",
    "\n",
    "max_accuracy = 0\n",
    "optimal_set = []\n",
    "for i in range(len(result)):\n",
    "    name.append(\"Accuracy of the {}-th explore step\".format(i))\n",
    "    output.append(result[i][0])\n",
    "\n",
    "    if result[i][0] > max_accuracy:\n",
    "        max_accuracy = result[i][0]\n",
    "        optimal_set = result[i][4]\n",
    "        Mmacro_f1 = result[i][3]\n",
    "        Mprecision = result[i][1]\n",
    "        Mrecall = result[i][2]\n",
    "\n",
    "print(\"The maximum accuracy is: {}, the optimal selection for each feature is:{}\".format(max_accuracy, optimal_set))"
   ]
  },
  {
   "cell_type": "code",
   "execution_count": null,
   "metadata": {},
   "outputs": [],
   "source": [
    "name.append(\"feature subset\")\n",
    "output.append(optimal_set)\n",
    "name.append(\"max_accuracy\")\n",
    "output.append(max_accuracy)\n",
    "name.append(\"precision\")\n",
    "output.append(Mprecision)\n",
    "name.append(\"recall_RF\")\n",
    "output.append(Mrecall)\n",
    "name.append(\"macro_f1\")\n",
    "output.append(Mmacro_f1)\n",
    "\n",
    "\n",
    "out = dict(zip(name, output))\n",
    "out = pd.DataFrame([out])\n",
    "out.to_csv('data/breast_cancer_result_predictor.csv', mode='a')"
   ]
  }
 ],
 "metadata": {
  "kernelspec": {
   "display_name": "Python 3.8.5 ('env': venv)",
   "language": "python",
   "name": "python3"
  },
  "language_info": {
   "codemirror_mode": {
    "name": "ipython",
    "version": 3
   },
   "file_extension": ".py",
   "mimetype": "text/x-python",
   "name": "python",
   "nbconvert_exporter": "python",
   "pygments_lexer": "ipython3",
   "version": "3.8.5"
  },
  "orig_nbformat": 4,
  "vscode": {
   "interpreter": {
    "hash": "837fceb5dd1092d772ff3e952605852eb52abfac31028597cbb623aed9265835"
   }
  }
 },
 "nbformat": 4,
 "nbformat_minor": 2
}
